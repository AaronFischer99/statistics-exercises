{
 "cells": [
  {
   "cell_type": "code",
   "execution_count": 1,
   "id": "17e87b4e",
   "metadata": {},
   "outputs": [],
   "source": [
    "import numpy as np\n",
    "import pandas as pd"
   ]
  },
  {
   "cell_type": "code",
   "execution_count": 2,
   "id": "9a40f2c8",
   "metadata": {},
   "outputs": [
    {
     "data": {
      "text/html": [
       "<div>\n",
       "<style scoped>\n",
       "    .dataframe tbody tr th:only-of-type {\n",
       "        vertical-align: middle;\n",
       "    }\n",
       "\n",
       "    .dataframe tbody tr th {\n",
       "        vertical-align: top;\n",
       "    }\n",
       "\n",
       "    .dataframe thead th {\n",
       "        text-align: right;\n",
       "    }\n",
       "</style>\n",
       "<table border=\"1\" class=\"dataframe\">\n",
       "  <thead>\n",
       "    <tr style=\"text-align: right;\">\n",
       "      <th></th>\n",
       "      <th>0</th>\n",
       "      <th>1</th>\n",
       "    </tr>\n",
       "  </thead>\n",
       "  <tbody>\n",
       "    <tr>\n",
       "      <th>0</th>\n",
       "      <td>1</td>\n",
       "      <td>2</td>\n",
       "    </tr>\n",
       "    <tr>\n",
       "      <th>1</th>\n",
       "      <td>2</td>\n",
       "      <td>6</td>\n",
       "    </tr>\n",
       "    <tr>\n",
       "      <th>2</th>\n",
       "      <td>3</td>\n",
       "      <td>3</td>\n",
       "    </tr>\n",
       "    <tr>\n",
       "      <th>3</th>\n",
       "      <td>2</td>\n",
       "      <td>1</td>\n",
       "    </tr>\n",
       "    <tr>\n",
       "      <th>4</th>\n",
       "      <td>1</td>\n",
       "      <td>5</td>\n",
       "    </tr>\n",
       "    <tr>\n",
       "      <th>...</th>\n",
       "      <td>...</td>\n",
       "      <td>...</td>\n",
       "    </tr>\n",
       "    <tr>\n",
       "      <th>99995</th>\n",
       "      <td>5</td>\n",
       "      <td>2</td>\n",
       "    </tr>\n",
       "    <tr>\n",
       "      <th>99996</th>\n",
       "      <td>6</td>\n",
       "      <td>2</td>\n",
       "    </tr>\n",
       "    <tr>\n",
       "      <th>99997</th>\n",
       "      <td>4</td>\n",
       "      <td>4</td>\n",
       "    </tr>\n",
       "    <tr>\n",
       "      <th>99998</th>\n",
       "      <td>5</td>\n",
       "      <td>2</td>\n",
       "    </tr>\n",
       "    <tr>\n",
       "      <th>99999</th>\n",
       "      <td>1</td>\n",
       "      <td>2</td>\n",
       "    </tr>\n",
       "  </tbody>\n",
       "</table>\n",
       "<p>100000 rows × 2 columns</p>\n",
       "</div>"
      ],
      "text/plain": [
       "       0  1\n",
       "0      1  2\n",
       "1      2  6\n",
       "2      3  3\n",
       "3      2  1\n",
       "4      1  5\n",
       "...   .. ..\n",
       "99995  5  2\n",
       "99996  6  2\n",
       "99997  4  4\n",
       "99998  5  2\n",
       "99999  1  2\n",
       "\n",
       "[100000 rows x 2 columns]"
      ]
     },
     "execution_count": 2,
     "metadata": {},
     "output_type": "execute_result"
    }
   ],
   "source": [
    "# 1. How likely is it that you roll doubles when rolling two dice?\n",
    "\n",
    "n_trials = n_cols = 2\n",
    "n_sims = n_rows = 100_000\n",
    "\n",
    "dice_rolls = pd.DataFrame(np.random.choice([1, 2, 3, 4, 5, 6], size=(n_sims, n_trials)))\n",
    "dice_rolls"
   ]
  },
  {
   "cell_type": "code",
   "execution_count": 3,
   "id": "c188b119",
   "metadata": {},
   "outputs": [
    {
     "data": {
      "text/plain": [
       "0        False\n",
       "1        False\n",
       "2         True\n",
       "3        False\n",
       "4        False\n",
       "         ...  \n",
       "99995    False\n",
       "99996    False\n",
       "99997     True\n",
       "99998    False\n",
       "99999    False\n",
       "Length: 100000, dtype: bool"
      ]
     },
     "execution_count": 3,
     "metadata": {},
     "output_type": "execute_result"
    }
   ],
   "source": [
    "roll_doubles = dice_rolls[0] == dice_rolls[1]\n",
    "roll_doubles"
   ]
  },
  {
   "cell_type": "code",
   "execution_count": 4,
   "id": "ef83bac7",
   "metadata": {},
   "outputs": [
    {
     "data": {
      "text/plain": [
       "0.1656"
      ]
     },
     "execution_count": 4,
     "metadata": {},
     "output_type": "execute_result"
    }
   ],
   "source": [
    "probability_of_doubles = roll_doubles.mean()\n",
    "probability_of_doubles"
   ]
  },
  {
   "cell_type": "code",
   "execution_count": null,
   "id": "8756197d",
   "metadata": {},
   "outputs": [],
   "source": []
  },
  {
   "cell_type": "code",
   "execution_count": 5,
   "id": "374fb586",
   "metadata": {},
   "outputs": [
    {
     "data": {
      "text/plain": [
       "array([[1, 1, 1, ..., 1, 1, 0],\n",
       "       [1, 1, 1, ..., 0, 1, 0],\n",
       "       [1, 1, 1, ..., 0, 1, 1],\n",
       "       ...,\n",
       "       [1, 0, 1, ..., 0, 1, 1],\n",
       "       [0, 1, 1, ..., 0, 0, 0],\n",
       "       [1, 1, 0, ..., 1, 1, 0]])"
      ]
     },
     "execution_count": 5,
     "metadata": {},
     "output_type": "execute_result"
    }
   ],
   "source": [
    "# 2. #2. If you flip 8 coins, what is the probability of getting exactly 3 heads? What is the probability of getting more than 3 heads?\n",
    "n_trials = 8\n",
    "n_sims = 100_000\n",
    "\n",
    "# 1 is  heads, 0 is tails\n",
    "coin_flips = np.random.choice([0, 1], size=(n_sims, n_trials))\n",
    "coin_flips"
   ]
  },
  {
   "cell_type": "code",
   "execution_count": 6,
   "id": "10e3c039",
   "metadata": {},
   "outputs": [
    {
     "data": {
      "text/plain": [
       "0.21879"
      ]
     },
     "execution_count": 6,
     "metadata": {},
     "output_type": "execute_result"
    }
   ],
   "source": [
    "exactly_3_heads = (coin_flips == 1).sum(axis=1) == 3\n",
    "exactly_3_heads.mean()"
   ]
  },
  {
   "cell_type": "code",
   "execution_count": 8,
   "id": "b46bb634",
   "metadata": {},
   "outputs": [
    {
     "data": {
      "text/plain": [
       "0.63619"
      ]
     },
     "execution_count": 8,
     "metadata": {},
     "output_type": "execute_result"
    }
   ],
   "source": [
    "#more_than_3_heads = (coin_flips == 1).sum(axis=1) > 3\n",
    "#more_than_3_heads\n",
    "\n",
    "more_than_3_heads.mean()\n"
   ]
  },
  {
   "cell_type": "code",
   "execution_count": null,
   "id": "551efcf8",
   "metadata": {},
   "outputs": [],
   "source": []
  },
  {
   "cell_type": "code",
   "execution_count": 9,
   "id": "776d3ebd",
   "metadata": {},
   "outputs": [
    {
     "data": {
      "text/plain": [
       "array([['Web Dev', 'Web Dev'],\n",
       "       ['Web Dev', 'Data Science'],\n",
       "       ['Data Science', 'Web Dev'],\n",
       "       ...,\n",
       "       ['Web Dev', 'Web Dev'],\n",
       "       ['Data Science', 'Data Science'],\n",
       "       ['Web Dev', 'Web Dev']], dtype='<U12')"
      ]
     },
     "execution_count": 9,
     "metadata": {},
     "output_type": "execute_result"
    }
   ],
   "source": [
    "# 3. There are approximitely 3 web development cohorts for every \n",
    "#1 data science cohort at Codeup. Assuming that Codeup randomly selects \n",
    "#an alumni to put on a billboard, what are the odds that the \n",
    "#two billboards I drive past both have data science students on them?\n",
    "\n",
    "n_trials = 2\n",
    "n_sims = 100_000\n",
    "\n",
    "billboards = np.random.choice(['Web Dev', 'Data Science'], p=[.75, .25], size=(n_sims, n_trials))\n",
    "billboards"
   ]
  },
  {
   "cell_type": "code",
   "execution_count": 10,
   "id": "9a83e62d",
   "metadata": {},
   "outputs": [
    {
     "data": {
      "text/html": [
       "<div>\n",
       "<style scoped>\n",
       "    .dataframe tbody tr th:only-of-type {\n",
       "        vertical-align: middle;\n",
       "    }\n",
       "\n",
       "    .dataframe tbody tr th {\n",
       "        vertical-align: top;\n",
       "    }\n",
       "\n",
       "    .dataframe thead th {\n",
       "        text-align: right;\n",
       "    }\n",
       "</style>\n",
       "<table border=\"1\" class=\"dataframe\">\n",
       "  <thead>\n",
       "    <tr style=\"text-align: right;\">\n",
       "      <th></th>\n",
       "      <th>first_billboard</th>\n",
       "      <th>second_billboard</th>\n",
       "    </tr>\n",
       "  </thead>\n",
       "  <tbody>\n",
       "    <tr>\n",
       "      <th>0</th>\n",
       "      <td>Web Dev</td>\n",
       "      <td>Web Dev</td>\n",
       "    </tr>\n",
       "    <tr>\n",
       "      <th>1</th>\n",
       "      <td>Web Dev</td>\n",
       "      <td>Data Science</td>\n",
       "    </tr>\n",
       "    <tr>\n",
       "      <th>2</th>\n",
       "      <td>Data Science</td>\n",
       "      <td>Web Dev</td>\n",
       "    </tr>\n",
       "    <tr>\n",
       "      <th>3</th>\n",
       "      <td>Web Dev</td>\n",
       "      <td>Data Science</td>\n",
       "    </tr>\n",
       "    <tr>\n",
       "      <th>4</th>\n",
       "      <td>Web Dev</td>\n",
       "      <td>Data Science</td>\n",
       "    </tr>\n",
       "  </tbody>\n",
       "</table>\n",
       "</div>"
      ],
      "text/plain": [
       "  first_billboard second_billboard\n",
       "0         Web Dev          Web Dev\n",
       "1         Web Dev     Data Science\n",
       "2    Data Science          Web Dev\n",
       "3         Web Dev     Data Science\n",
       "4         Web Dev     Data Science"
      ]
     },
     "execution_count": 10,
     "metadata": {},
     "output_type": "execute_result"
    }
   ],
   "source": [
    "df = pd.DataFrame(billboards)\n",
    "df.columns = [\"first_billboard\", \"second_billboard\"]\n",
    "df.head()"
   ]
  },
  {
   "cell_type": "code",
   "execution_count": 11,
   "id": "b4f2bc53",
   "metadata": {},
   "outputs": [
    {
     "data": {
      "text/plain": [
       "0.06226"
      ]
     },
     "execution_count": 11,
     "metadata": {},
     "output_type": "execute_result"
    }
   ],
   "source": [
    "df[\"both_ds\"] = (df.first_billboard == \"Data Science\") & (df.second_billboard == \"Data Science\")\n",
    "df[\"both_ds\"].mean()"
   ]
  },
  {
   "cell_type": "code",
   "execution_count": null,
   "id": "fcc32618",
   "metadata": {},
   "outputs": [],
   "source": []
  },
  {
   "cell_type": "code",
   "execution_count": 12,
   "id": "f9065f6a",
   "metadata": {},
   "outputs": [
    {
     "data": {
      "text/plain": [
       "array([[ 3.,  3.,  1.,  0.,  6.],\n",
       "       [-0.,  2.,  4.,  3.,  2.],\n",
       "       [ 1.,  3.,  4.,  2.,  2.],\n",
       "       ...,\n",
       "       [ 0.,  1.,  3.,  5.,  1.],\n",
       "       [ 4.,  3.,  3.,  3.,  3.],\n",
       "       [ 4.,  3.,  3.,  1.,  2.]])"
      ]
     },
     "execution_count": 12,
     "metadata": {},
     "output_type": "execute_result"
    }
   ],
   "source": [
    "# 4. Codeup students buy, on average, 3 poptart packages with a standard deviation\n",
    "#of 1.5 a day from the snack vending machine. If on monday the machine is restocked \n",
    "#with 17 poptart packages, how likely is it that I will be able to buy some poptarts \n",
    "#on Friday afternoon? (Remember, if you have mean and standard deviation, \n",
    "#use the np.random.normal) You'll need to make a judgement call on how to handle some of your values\n",
    "\n",
    "n_trials = ncols = 5\n",
    "n_sims = nrows = 100_000\n",
    "\n",
    "poptart_purchases = np.random.normal(3,1.5, size = (n_sims, n_trials))\n",
    "rounded_poptart_purchases = poptart_purchases.round()\n",
    "rounded_poptart_purchases"
   ]
  },
  {
   "cell_type": "code",
   "execution_count": 13,
   "id": "6ffc3914",
   "metadata": {},
   "outputs": [
    {
     "data": {
      "text/plain": [
       "array([[ 3.,  3.,  1.,  0.,  6.],\n",
       "       [-0.,  2.,  4.,  3.,  2.],\n",
       "       [ 1.,  3.,  4.,  2.,  2.],\n",
       "       ...,\n",
       "       [ 0.,  1.,  3.,  5.,  1.],\n",
       "       [ 4.,  3.,  3.,  3.,  3.],\n",
       "       [ 4.,  3.,  3.,  1.,  2.]])"
      ]
     },
     "execution_count": 13,
     "metadata": {},
     "output_type": "execute_result"
    }
   ],
   "source": [
    "no_neg_poptarts = np.where(rounded_poptart_purchases < 0, 0, rounded_poptart_purchases)\n",
    "no_neg_poptarts"
   ]
  },
  {
   "cell_type": "code",
   "execution_count": 14,
   "id": "9c5c6e79",
   "metadata": {},
   "outputs": [
    {
     "data": {
      "text/plain": [
       "0.67076"
      ]
     },
     "execution_count": 14,
     "metadata": {},
     "output_type": "execute_result"
    }
   ],
   "source": [
    "poptarts_on_friday = no_neg_poptarts.sum(axis=1) < 17\n",
    "poptarts_on_friday.mean()"
   ]
  },
  {
   "cell_type": "code",
   "execution_count": null,
   "id": "d040c47d",
   "metadata": {},
   "outputs": [],
   "source": []
  },
  {
   "cell_type": "code",
   "execution_count": 15,
   "id": "5fe9e252",
   "metadata": {},
   "outputs": [
    {
     "data": {
      "text/plain": [
       "array([182.93259744, 184.79039326, 178.31570638, ..., 166.59959918,\n",
       "       174.10728673, 176.0540986 ])"
      ]
     },
     "execution_count": 15,
     "metadata": {},
     "output_type": "execute_result"
    }
   ],
   "source": [
    "# 5. Compare heights\n",
    "\n",
    "# Men have an average height of 178 cm and standard deviation of 8cm.\n",
    "men_height = np.random.normal(178, 8, size = 100_000)\n",
    "men_height"
   ]
  },
  {
   "cell_type": "code",
   "execution_count": 16,
   "id": "2637f54d",
   "metadata": {},
   "outputs": [
    {
     "data": {
      "text/plain": [
       "array([169.77109289, 175.14850546, 168.45954363, ..., 168.21127786,\n",
       "       172.0938079 , 175.21958657])"
      ]
     },
     "execution_count": 16,
     "metadata": {},
     "output_type": "execute_result"
    }
   ],
   "source": [
    "# Women have a mean of 170, sd = 6cm.\n",
    "women_height = np.random.normal(170, 6, size = 100_000)\n",
    "women_height"
   ]
  },
  {
   "cell_type": "code",
   "execution_count": null,
   "id": "052b0c41",
   "metadata": {},
   "outputs": [],
   "source": [
    "women_height = np.random.normal(170, 6, size=100_000)"
   ]
  },
  {
   "cell_type": "code",
   "execution_count": 20,
   "id": "e4f8baf8",
   "metadata": {},
   "outputs": [
    {
     "data": {
      "text/html": [
       "<div>\n",
       "<style scoped>\n",
       "    .dataframe tbody tr th:only-of-type {\n",
       "        vertical-align: middle;\n",
       "    }\n",
       "\n",
       "    .dataframe tbody tr th {\n",
       "        vertical-align: top;\n",
       "    }\n",
       "\n",
       "    .dataframe thead th {\n",
       "        text-align: right;\n",
       "    }\n",
       "</style>\n",
       "<table border=\"1\" class=\"dataframe\">\n",
       "  <thead>\n",
       "    <tr style=\"text-align: right;\">\n",
       "      <th></th>\n",
       "      <th>Average Mens Height</th>\n",
       "      <th>Average Womens Height</th>\n",
       "    </tr>\n",
       "  </thead>\n",
       "  <tbody>\n",
       "    <tr>\n",
       "      <th>0</th>\n",
       "      <td>182.932597</td>\n",
       "      <td>169.771093</td>\n",
       "    </tr>\n",
       "    <tr>\n",
       "      <th>1</th>\n",
       "      <td>184.790393</td>\n",
       "      <td>175.148505</td>\n",
       "    </tr>\n",
       "    <tr>\n",
       "      <th>2</th>\n",
       "      <td>178.315706</td>\n",
       "      <td>168.459544</td>\n",
       "    </tr>\n",
       "    <tr>\n",
       "      <th>3</th>\n",
       "      <td>169.403954</td>\n",
       "      <td>171.084685</td>\n",
       "    </tr>\n",
       "    <tr>\n",
       "      <th>4</th>\n",
       "      <td>170.709318</td>\n",
       "      <td>169.929204</td>\n",
       "    </tr>\n",
       "    <tr>\n",
       "      <th>...</th>\n",
       "      <td>...</td>\n",
       "      <td>...</td>\n",
       "    </tr>\n",
       "    <tr>\n",
       "      <th>99995</th>\n",
       "      <td>183.965387</td>\n",
       "      <td>164.037732</td>\n",
       "    </tr>\n",
       "    <tr>\n",
       "      <th>99996</th>\n",
       "      <td>167.251094</td>\n",
       "      <td>168.178349</td>\n",
       "    </tr>\n",
       "    <tr>\n",
       "      <th>99997</th>\n",
       "      <td>166.599599</td>\n",
       "      <td>168.211278</td>\n",
       "    </tr>\n",
       "    <tr>\n",
       "      <th>99998</th>\n",
       "      <td>174.107287</td>\n",
       "      <td>172.093808</td>\n",
       "    </tr>\n",
       "    <tr>\n",
       "      <th>99999</th>\n",
       "      <td>176.054099</td>\n",
       "      <td>175.219587</td>\n",
       "    </tr>\n",
       "  </tbody>\n",
       "</table>\n",
       "<p>100000 rows × 2 columns</p>\n",
       "</div>"
      ],
      "text/plain": [
       "       Average Mens Height  Average Womens Height\n",
       "0               182.932597             169.771093\n",
       "1               184.790393             175.148505\n",
       "2               178.315706             168.459544\n",
       "3               169.403954             171.084685\n",
       "4               170.709318             169.929204\n",
       "...                    ...                    ...\n",
       "99995           183.965387             164.037732\n",
       "99996           167.251094             168.178349\n",
       "99997           166.599599             168.211278\n",
       "99998           174.107287             172.093808\n",
       "99999           176.054099             175.219587\n",
       "\n",
       "[100000 rows x 2 columns]"
      ]
     },
     "execution_count": 20,
     "metadata": {},
     "output_type": "execute_result"
    }
   ],
   "source": [
    "# If a man and woman are chosen at random, P(woman taller than man)?\n",
    "\n",
    "height = pd.DataFrame({'Average Mens Height': men_height, 'Average Womens Height': women_height})\n",
    "height"
   ]
  },
  {
   "cell_type": "code",
   "execution_count": null,
   "id": "02b5d967",
   "metadata": {},
   "outputs": [],
   "source": []
  },
  {
   "cell_type": "code",
   "execution_count": 24,
   "id": "a69f3f99",
   "metadata": {},
   "outputs": [
    {
     "data": {
      "text/plain": [
       "0.21348"
      ]
     },
     "execution_count": 24,
     "metadata": {},
     "output_type": "execute_result"
    }
   ],
   "source": [
    "height['Women taller than Man'] = (height['Average Womens Height'] > height['Average Mens Height'])\n",
    "height['Women taller than Man'].mean()"
   ]
  },
  {
   "cell_type": "code",
   "execution_count": null,
   "id": "77d3b579",
   "metadata": {},
   "outputs": [],
   "source": []
  },
  {
   "cell_type": "code",
   "execution_count": null,
   "id": "6c9e7048",
   "metadata": {},
   "outputs": [],
   "source": []
  },
  {
   "cell_type": "code",
   "execution_count": 25,
   "id": "a3486c9f",
   "metadata": {},
   "outputs": [],
   "source": [
    "# 6. When installing anaconda on a student's computer, \n",
    "#there's a 1 in 250 chance that the download is corrupted and \n",
    "#the installation fails. What are the odds that after having 50 students \n",
    "#download anaconda, no one has an installation issue? 100 students?\n",
    "\n",
    "def prob_no_anaconda_corruption(students, number_of_sims_to_run):\n",
    "    n_trials = n_cols = students\n",
    "    n_sims = n_rows = number_of_sims_to_run\n",
    "\n",
    "    installs = np.random.choice([0, 1], p=[1/250, 249/250], size=(n_rows, n_cols))\n",
    "    \n",
    "    no_corruptions = installs.sum(axis=1) == students\n",
    "    \n",
    "    return no_corruptions.mean()"
   ]
  },
  {
   "cell_type": "code",
   "execution_count": 26,
   "id": "47e2a7ff",
   "metadata": {},
   "outputs": [
    {
     "data": {
      "text/plain": [
       "0.81894"
      ]
     },
     "execution_count": 26,
     "metadata": {},
     "output_type": "execute_result"
    }
   ],
   "source": [
    "prob_no_anaconda_corruption(50, 100_000)\n"
   ]
  },
  {
   "cell_type": "code",
   "execution_count": 27,
   "id": "9b33a0a7",
   "metadata": {},
   "outputs": [
    {
     "data": {
      "text/plain": [
       "0.67058"
      ]
     },
     "execution_count": 27,
     "metadata": {},
     "output_type": "execute_result"
    }
   ],
   "source": [
    "prob_no_anaconda_corruption(100, 100_000)\n"
   ]
  },
  {
   "cell_type": "code",
   "execution_count": null,
   "id": "d8b1f5c4",
   "metadata": {},
   "outputs": [],
   "source": [
    "# What is the probability that we observe an installation issue within the first 150 students that download anaconda?\n",
    "\n",
    "def prob_anaconda_corruption(students, number_of_sims_to_run):\n",
    "    n_trials = n_cols = students\n",
    "    n_sims = n_rows = number_of_sims_to_run\n",
    "\n",
    "    installs = np.random.choice([0, 1], p=[1/250, 249/250], size=(n_rows, n_cols))\n",
    "    \n",
    "    has_corruptions = installs.sum(axis=1) < students\n",
    "    \n",
    "    return has_corruptions.mean()"
   ]
  },
  {
   "cell_type": "code",
   "execution_count": null,
   "id": "129815c7",
   "metadata": {},
   "outputs": [],
   "source": [
    "prob_anaconda_corruption(150, 100_000)\n"
   ]
  },
  {
   "cell_type": "code",
   "execution_count": null,
   "id": "4e41b541",
   "metadata": {},
   "outputs": [],
   "source": [
    "# How likely is it that 450 students all download anaconda without an issue?\n",
    "\n",
    "prob_anaconda_corruption(450, 100_000)\n",
    "(249/250)**450"
   ]
  },
  {
   "cell_type": "code",
   "execution_count": null,
   "id": "5f3944f8",
   "metadata": {},
   "outputs": [],
   "source": []
  },
  {
   "cell_type": "code",
   "execution_count": 28,
   "id": "ee01c45b",
   "metadata": {},
   "outputs": [
    {
     "data": {
      "text/plain": [
       "array([[1, 0, 1],\n",
       "       [1, 0, 1],\n",
       "       [1, 1, 1],\n",
       "       ...,\n",
       "       [1, 0, 1],\n",
       "       [1, 1, 1],\n",
       "       [1, 0, 0]])"
      ]
     },
     "execution_count": 28,
     "metadata": {},
     "output_type": "execute_result"
    }
   ],
   "source": [
    "# 7. There's a 70% chance on any given day that there will be at least\n",
    "#one food truck at Travis Park. However, you haven't seen a food truck there in 3 days. \n",
    "#How unlikely is this?\n",
    "\n",
    "n_trials = 3\n",
    "n_sims = 100_000\n",
    "\n",
    "# 0 is no food trucks, 1 is at least 1 food truck\n",
    "food_trucks = np.random.choice([0, 1], p=[.3, .7], size=(n_sims, n_trials))\n",
    "food_trucks"
   ]
  },
  {
   "cell_type": "code",
   "execution_count": 29,
   "id": "2e3e56c7",
   "metadata": {},
   "outputs": [
    {
     "data": {
      "text/plain": [
       "array([False, False, False, ..., False, False, False])"
      ]
     },
     "execution_count": 29,
     "metadata": {},
     "output_type": "execute_result"
    }
   ],
   "source": [
    "no_food_trucks = food_trucks.sum(axis=1) == 0\n",
    "no_food_trucks"
   ]
  },
  {
   "cell_type": "code",
   "execution_count": 30,
   "id": "7faa601e",
   "metadata": {},
   "outputs": [
    {
     "data": {
      "text/plain": [
       "0.02647"
      ]
     },
     "execution_count": 30,
     "metadata": {},
     "output_type": "execute_result"
    }
   ],
   "source": [
    "no_food_trucks.mean()\n"
   ]
  },
  {
   "cell_type": "code",
   "execution_count": 32,
   "id": "d9eb5899",
   "metadata": {},
   "outputs": [
    {
     "data": {
      "text/plain": [
       "array([[1, 1, 1, ..., 1, 1, 1],\n",
       "       [1, 0, 1, ..., 1, 1, 1],\n",
       "       [1, 1, 1, ..., 0, 1, 0],\n",
       "       ...,\n",
       "       [1, 1, 0, ..., 1, 1, 0],\n",
       "       [0, 1, 0, ..., 1, 0, 1],\n",
       "       [0, 1, 1, ..., 1, 1, 1]])"
      ]
     },
     "execution_count": 32,
     "metadata": {},
     "output_type": "execute_result"
    }
   ],
   "source": [
    "# Likelihood of food truck showing up sometime in a week\n",
    "\n",
    "# How likely is it that a food truck will show up sometime this week?\n",
    "\n",
    "n_trials = 7\n",
    "n_sims = 100_000\n",
    "\n",
    "food_trucks = np.random.choice([0, 1], p=[.3, .7], size =(n_sims, n_trials))\n",
    "food_trucks\n"
   ]
  },
  {
   "cell_type": "code",
   "execution_count": 33,
   "id": "5e5a03f0",
   "metadata": {},
   "outputs": [
    {
     "data": {
      "text/plain": [
       "0.99976"
      ]
     },
     "execution_count": 33,
     "metadata": {},
     "output_type": "execute_result"
    }
   ],
   "source": [
    "at_least_one_food_truck = food_trucks.sum(axis=1) > 0\n",
    "at_least_one_food_truck.mean()"
   ]
  },
  {
   "cell_type": "code",
   "execution_count": null,
   "id": "0cfc7611",
   "metadata": {},
   "outputs": [],
   "source": []
  },
  {
   "cell_type": "code",
   "execution_count": 34,
   "id": "277f78d3",
   "metadata": {},
   "outputs": [
    {
     "data": {
      "text/plain": [
       "0.50831"
      ]
     },
     "execution_count": 34,
     "metadata": {},
     "output_type": "execute_result"
    }
   ],
   "source": [
    "# 8. If 23 people are in the same room, what are the odds that two of them share a birthday? \n",
    "#What if it's 20 people? 40?\n",
    "\n",
    "birthdays = np.random.randint(1,365, (100_000, 23))\n",
    "birthdays_df = pd.DataFrame(birthdays)\n",
    "(birthdays_df.nunique(axis=1) < 23).mean()"
   ]
  },
  {
   "cell_type": "code",
   "execution_count": 23,
   "id": "3fe85848",
   "metadata": {},
   "outputs": [
    {
     "data": {
      "text/plain": [
       "0.50833"
      ]
     },
     "execution_count": 23,
     "metadata": {},
     "output_type": "execute_result"
    }
   ],
   "source": [
    "birthdays = np.random.randint(1,365, (100_000, 23))\n",
    "bd_df = pd.DataFrame(birthdays)\n",
    "pd.options.display.max_columns = 25\n",
    "#bd_df.head()\n",
    "bd_df.nunique(axis=1) #Takes all the values from column axis [axis=1] which run between 0 and 23\n",
    "bd_df.nunique(axis=1) < 23 #Retruns T or F if the value on the column axis of 100,000 values that less than 23\n",
    "(bd_df.nunique(axis=1) < 23).mean() #Returns the mean of the values on the column axis that were less than 23\n",
    "#(bd_df.nunique(axis=1) < 20).mean()"
   ]
  },
  {
   "cell_type": "code",
   "execution_count": 24,
   "id": "32b8fbe0",
   "metadata": {},
   "outputs": [
    {
     "data": {
      "text/plain": [
       "(100000, 23)"
      ]
     },
     "execution_count": 24,
     "metadata": {},
     "output_type": "execute_result"
    }
   ],
   "source": [
    "bd_df.shape"
   ]
  },
  {
   "cell_type": "code",
   "execution_count": 36,
   "id": "16fae2a7",
   "metadata": {},
   "outputs": [
    {
     "data": {
      "text/plain": [
       "0.41217"
      ]
     },
     "execution_count": 36,
     "metadata": {},
     "output_type": "execute_result"
    }
   ],
   "source": [
    "birthdays = np.random.randint(1,365, (100_000, 20))\n",
    "birthdays_df = pd.DataFrame(birthdays)\n",
    "(birthdays_df.nunique(axis=1) < 20).mean()"
   ]
  },
  {
   "cell_type": "code",
   "execution_count": 37,
   "id": "1186c164",
   "metadata": {},
   "outputs": [
    {
     "data": {
      "text/plain": [
       "0.89255"
      ]
     },
     "execution_count": 37,
     "metadata": {},
     "output_type": "execute_result"
    }
   ],
   "source": [
    "birthdays = np.random.randint(1,365, (100_000, 40))\n",
    "birthdays_df = pd.DataFrame(birthdays)\n",
    "(birthdays_df.nunique(axis=1) < 40).mean()"
   ]
  },
  {
   "cell_type": "code",
   "execution_count": null,
   "id": "7ad09cc6",
   "metadata": {},
   "outputs": [],
   "source": []
  },
  {
   "cell_type": "code",
   "execution_count": null,
   "id": "c7057ce1",
   "metadata": {},
   "outputs": [],
   "source": []
  },
  {
   "cell_type": "code",
   "execution_count": null,
   "id": "3ad56681",
   "metadata": {},
   "outputs": [],
   "source": []
  },
  {
   "cell_type": "code",
   "execution_count": null,
   "id": "71dfa421",
   "metadata": {},
   "outputs": [],
   "source": []
  }
 ],
 "metadata": {
  "kernelspec": {
   "display_name": "Python 3 (ipykernel)",
   "language": "python",
   "name": "python3"
  },
  "language_info": {
   "codemirror_mode": {
    "name": "ipython",
    "version": 3
   },
   "file_extension": ".py",
   "mimetype": "text/x-python",
   "name": "python",
   "nbconvert_exporter": "python",
   "pygments_lexer": "ipython3",
   "version": "3.11.5"
  }
 },
 "nbformat": 4,
 "nbformat_minor": 5
}
