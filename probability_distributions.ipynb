{
 "cells": [
  {
   "cell_type": "code",
   "execution_count": 5,
   "id": "42eb7768",
   "metadata": {},
   "outputs": [],
   "source": [
    "import pandas as pd\n",
    "import numpy as np\n",
    "import scipy\n",
    "import stats\n",
    "import random\n",
    "from scipy import stats\n",
    "#import viz # curriculum viz example code"
   ]
  },
  {
   "cell_type": "code",
   "execution_count": 153,
   "id": "abdcfc42",
   "metadata": {},
   "outputs": [
    {
     "name": "stdout",
     "output_type": "stream",
     "text": [
      "Requirement already satisfied: stats in /Users/aaronfischer/.pyenv/versions/3.11.5/lib/python3.11/site-packages (0.1.2a0)\n",
      "Note: you may need to restart the kernel to use updated packages.\n"
     ]
    }
   ],
   "source": [
    "pip install stats"
   ]
  },
  {
   "cell_type": "code",
   "execution_count": 72,
   "id": "b94aa2d4",
   "metadata": {},
   "outputs": [
    {
     "data": {
      "text/plain": [
       "0.1353352832366127"
      ]
     },
     "execution_count": 72,
     "metadata": {},
     "output_type": "execute_result"
    }
   ],
   "source": [
    "#A bank found that the average number of cars waiting during the noon hour at a drive-up window follows a Poisson distribution with a mean of 2 cars.\n",
    "# Make a chart of this distribution \n",
    "# and answer these questions concerning the probability of cars waiting at the drive-up window.\n",
    "#domain = np.arange(0, 24, 2)\n",
    "\n",
    "#mean = 2\n",
    "cars = stats.poisson(2)\n",
    "cars.pmf(0)"
   ]
  },
  {
   "cell_type": "code",
   "execution_count": 73,
   "id": "728ed196",
   "metadata": {},
   "outputs": [],
   "source": [
    "import matplotlib.pyplot as plt"
   ]
  },
  {
   "cell_type": "code",
   "execution_count": 74,
   "id": "87ab7f64",
   "metadata": {},
   "outputs": [
    {
     "data": {
      "text/plain": [
       "0.32332358381693654"
      ]
     },
     "execution_count": 74,
     "metadata": {},
     "output_type": "execute_result"
    }
   ],
   "source": [
    "# What is the probability that 3 or more cars come through the drive through?\n",
    " \n",
    "cars.sf(2)"
   ]
  },
  {
   "cell_type": "code",
   "execution_count": 76,
   "id": "69abc43e",
   "metadata": {},
   "outputs": [
    {
     "data": {
      "image/png": "[encoded data removed]",
      "text/plain": [
       "<Figure size 640x480 with 1 Axes>"
      ]
     },
     "metadata": {},
     "output_type": "display_data"
    }
   ],
   "source": [
    "x = np.arange(0, 24 + 1)\n",
    "y = cars.pmf(x)\n",
    "\n",
    "plt.bar(x, y, width=.5, ec='black', color='red');"
   ]
  },
  {
   "cell_type": "code",
   "execution_count": 88,
   "id": "b955bdee",
   "metadata": {},
   "outputs": [
    {
     "data": {
      "image/png": "[encoded data removed]",
      "text/plain": [
       "<Figure size 640x480 with 1 Axes>"
      ]
     },
     "metadata": {},
     "output_type": "display_data"
    }
   ],
   "source": [
    "domain = domain = np.arange(0, 24 + 1, 1) #over 24 hour period\n",
    "\n",
    "y = stats.poisson.pmf(domain, mu=2, loc=0)  #mu = the mean\n",
    "\n",
    "\n",
    "\n",
    "# plotting the graph for reference on car volume\n",
    "plt.plot(domain, y, 'ro-')\n",
    "plt.xlim(0, 25)\n",
    "plt.ylim(0, .35)\n",
    " \n",
    "# showing the graph\n",
    "plt.show()\n"
   ]
  },
  {
   "cell_type": "code",
   "execution_count": 66,
   "id": "593ea55a",
   "metadata": {},
   "outputs": [
    {
     "data": {
      "text/plain": [
       "0.8646647167633873"
      ]
     },
     "execution_count": 66,
     "metadata": {},
     "output_type": "execute_result"
    }
   ],
   "source": [
    "# How likely is it that the drive through gets at least 1 car?\n",
    "\n",
    "cars.sf(0)"
   ]
  },
  {
   "cell_type": "code",
   "execution_count": null,
   "id": "179161f5",
   "metadata": {},
   "outputs": [],
   "source": []
  },
  {
   "cell_type": "code",
   "execution_count": 20,
   "id": "f2183333",
   "metadata": {},
   "outputs": [
    {
     "data": {
      "text/plain": [
       "3.4934560880854417"
      ]
     },
     "execution_count": 20,
     "metadata": {},
     "output_type": "execute_result"
    }
   ],
   "source": [
    "#Grades of State University graduates are normally distributed with a mean of 3.0 and a standard deviation of .3. Calculate the following:\n",
    "#mean = 3\n",
    "#std = .3\n",
    "#.norm(mu/ mean,  std)\n",
    "\n",
    "\n",
    "#What grade point average is required to be in the top 5% of the graduating class?\n",
    "grads = stats.norm(3, .3)\n",
    "grads.ppf(0.95)\n",
    "#grads.isf(0.05)"
   ]
  },
  {
   "cell_type": "code",
   "execution_count": 100,
   "id": "fb087d95",
   "metadata": {},
   "outputs": [
    {
     "data": {
      "text/plain": [
       "2.689069983151863"
      ]
     },
     "execution_count": 100,
     "metadata": {},
     "output_type": "execute_result"
    }
   ],
   "source": [
    "#What GPA constitutes the bottom 15% of the class?\n",
    "\n",
    "grads.isf(.85)  #when discussing top echleon level scores\n",
    "grads.ppf(.15) #when discussing lower level scores, ubt take away from 1"
   ]
  },
  {
   "cell_type": "code",
   "execution_count": 106,
   "id": "c9f7eda0",
   "metadata": {},
   "outputs": [
    {
     "data": {
      "text/plain": [
       "(2.842679846187588, 0.2524925375469227)"
      ]
     },
     "execution_count": 106,
     "metadata": {},
     "output_type": "execute_result"
    }
   ],
   "source": [
    "#An eccentric alumnus left scholarship money for students in the third decile from the bottom of their class. \n",
    "# Determine the range of the third decile. \n",
    "# Would a student with a 2.8 grade point average qualify for this scholarship?\n",
    "\n",
    "grads.ppf(.30), grads.cdf(2.8)   #No. a student with a 2.8 gpa would not qualify for the scholarship\n"
   ]
  },
  {
   "cell_type": "code",
   "execution_count": 102,
   "id": "9c067c55",
   "metadata": {},
   "outputs": [
    {
     "data": {
      "text/plain": [
       "0.9522096477271853"
      ]
     },
     "execution_count": 102,
     "metadata": {},
     "output_type": "execute_result"
    }
   ],
   "source": [
    "# If I have a GPA of 3.5, what percentile am I in?\n",
    "\n",
    "grads.cdf(3.5)"
   ]
  },
  {
   "cell_type": "code",
   "execution_count": null,
   "id": "5cbd65c5",
   "metadata": {},
   "outputs": [],
   "source": []
  },
  {
   "cell_type": "code",
   "execution_count": null,
   "id": "42761903",
   "metadata": {},
   "outputs": [],
   "source": []
  },
  {
   "cell_type": "code",
   "execution_count": 82,
   "id": "ebb83351",
   "metadata": {},
   "outputs": [
    {
     "data": {
      "text/plain": [
       "0.024655968900626078"
      ]
     },
     "execution_count": 82,
     "metadata": {},
     "output_type": "execute_result"
    }
   ],
   "source": [
    "#A marketing website has an average click-through rate of 2%. \n",
    "# One day they observe 4326 visitors and 97 click-throughs. \n",
    "# How likely is it that this many people or more click through?\n",
    "\n",
    "#mean = 2,   .sf(97) #97 clicks or more,  domain = np.arange(0, 4326 + 1)\n",
    "n = 4326\n",
    "p = 0.02\n",
    "\n",
    "stats.binom(n, p).pmf(96)   #(n,p)\n",
    "#stats.binom(n, p).sf(96)\n",
    "\n",
    "\n",
    "\n",
    "\n"
   ]
  },
  {
   "cell_type": "code",
   "execution_count": null,
   "id": "a8a40b44",
   "metadata": {},
   "outputs": [],
   "source": []
  },
  {
   "cell_type": "code",
   "execution_count": 157,
   "id": "640b035f",
   "metadata": {},
   "outputs": [
    {
     "data": {
      "text/plain": [
       "0.45284335760923855"
      ]
     },
     "execution_count": 157,
     "metadata": {},
     "output_type": "execute_result"
    }
   ],
   "source": [
    "# 4. You are working on some statistics homework consisting of 100 questions where all of the answers are a probability rounded to the hundreths place. \n",
    "# Looking to save time, you put down random probabilities as the answer to each question.\n",
    "#What is the probability that at least one of your first 60 answers is correct?\n",
    "\n",
    "\n",
    "n = 60\n",
    "p = .01\n",
    "\n",
    "stats.binom(n, p).sf(0)   # `sf` : probability that at least one of your first 60 answers is correct?\n"
   ]
  },
  {
   "cell_type": "code",
   "execution_count": 14,
   "id": "f99eb823",
   "metadata": {},
   "outputs": [],
   "source": [
    "# 5. The codeup staff tends to get upset when the student break area is not cleaned up. \n",
    "# Suppose that there's a 3% chance that any one student cleans the break area when they visit it,\n",
    "# and, on any given day, about 90% of the 3 active cohorts of 22 students visit the break area. \n",
    "# How likely is it that the break area gets cleaned up each day? How likely is it that it goes two days without getting cleaned up? All week?\n",
    "\n",
    "#mean = .03\n",
    "#range = 22\n",
    "p = 0.03\n",
    "n = round(.9 * 3 * 22)\n",
    "\n"
   ]
  },
  {
   "cell_type": "code",
   "execution_count": 15,
   "id": "d15af4ab",
   "metadata": {},
   "outputs": [
    {
     "data": {
      "text/plain": [
       "0.8342199288437352"
      ]
     },
     "execution_count": 15,
     "metadata": {},
     "output_type": "execute_result"
    }
   ],
   "source": [
    "stats.binom(n, p).sf(0)"
   ]
  },
  {
   "cell_type": "code",
   "execution_count": 17,
   "id": "9e9a3c13",
   "metadata": {},
   "outputs": [
    {
     "data": {
      "text/plain": [
       "0.02748303199257623"
      ]
     },
     "execution_count": 17,
     "metadata": {},
     "output_type": "execute_result"
    }
   ],
   "source": [
    "#How likely is it that it goes two days without getting cleaned up?\n",
    "\n",
    "stats.binom(n * 2, p).cdf(0)"
   ]
  },
  {
   "cell_type": "code",
   "execution_count": 24,
   "id": "d43d7a38",
   "metadata": {},
   "outputs": [
    {
     "data": {
      "text/plain": [
       "0.00012521651388091353"
      ]
     },
     "execution_count": 24,
     "metadata": {},
     "output_type": "execute_result"
    }
   ],
   "source": [
    "#All week?\n",
    "\n",
    "stats.binom(n * 5, p).cdf(0)\n",
    "\n"
   ]
  },
  {
   "cell_type": "code",
   "execution_count": null,
   "id": "0aeef62a",
   "metadata": {},
   "outputs": [],
   "source": []
  },
  {
   "cell_type": "code",
   "execution_count": 33,
   "id": "b94c320c",
   "metadata": {},
   "outputs": [],
   "source": [
    "# 6. You want to get lunch at La Panaderia, but notice that the line is usually very long at lunchtime. \n",
    "#After several weeks of careful observation, you notice that the average number of people in line \n",
    "#when your lunch break starts is normally distributed with a mean of 15 and standard deviation of 3. \n",
    "#If it takes 2 minutes for each person to order, and 10 minutes from ordering to getting your food, \n",
    "#what is the likelihood that you have at least 15 minutes left to eat your food before you have to go back to class?\n",
    "#Assume you have one hour for lunch, and ignore travel time to and from La Panaderia.\n",
    "\n",
    "mean = 15 * 2\n",
    "std = 3 * 2\n",
    "\n",
    "order_time = 2\n",
    "getting_food = 10\n",
    "luch_time = 60\n",
    "\n",
    "lunch = stats.norm(mean, std)\n",
    "#norm(mu/ mean,  std)"
   ]
  },
  {
   "cell_type": "code",
   "execution_count": 34,
   "id": "ee723cd7",
   "metadata": {},
   "outputs": [
    {
     "data": {
      "text/plain": [
       "0.7976716190363569"
      ]
     },
     "execution_count": 34,
     "metadata": {},
     "output_type": "execute_result"
    }
   ],
   "source": [
    "lunch.cdf(35)"
   ]
  },
  {
   "cell_type": "code",
   "execution_count": null,
   "id": "dc3a988c",
   "metadata": {},
   "outputs": [],
   "source": []
  },
  {
   "cell_type": "code",
   "execution_count": 7,
   "id": "c7f779e2",
   "metadata": {},
   "outputs": [],
   "source": [
    "import pymysql as pymy"
   ]
  },
  {
   "cell_type": "code",
   "execution_count": 8,
   "id": "b6535a48",
   "metadata": {},
   "outputs": [],
   "source": [
    "import env4"
   ]
  },
  {
   "cell_type": "code",
   "execution_count": 13,
   "id": "9d8846cd",
   "metadata": {},
   "outputs": [],
   "source": [
    "# 7. Connect to the employees database and find the average salary of current employees, \n",
    "#along with the standard deviation. For the following questions, calculate the answer based \n",
    "#on modeling the employees salaries with a normal distribution defined \n",
    "#by the calculated mean and standard deviation then compare this answer to the actual values present in the salaries\n",
    "#dataset.\n",
    "\n",
    "sql_query = ''' select * from employees\n",
    "            join salaries using(emp_no); \n",
    "            '''\n",
    "\n"
   ]
  },
  {
   "cell_type": "code",
   "execution_count": 15,
   "id": "42762944",
   "metadata": {},
   "outputs": [],
   "source": [
    "employees = pd.read_sql(sql_query, env4.get_db_url('employees'))\n"
   ]
  },
  {
   "cell_type": "code",
   "execution_count": 16,
   "id": "ff6999b2",
   "metadata": {},
   "outputs": [],
   "source": [
    "employees.to_csv('employees.csv')\n"
   ]
  },
  {
   "cell_type": "code",
   "execution_count": 17,
   "id": "b7454496",
   "metadata": {},
   "outputs": [
    {
     "data": {
      "text/html": [
       "<div>\n",
       "<style scoped>\n",
       "    .dataframe tbody tr th:only-of-type {\n",
       "        vertical-align: middle;\n",
       "    }\n",
       "\n",
       "    .dataframe tbody tr th {\n",
       "        vertical-align: top;\n",
       "    }\n",
       "\n",
       "    .dataframe thead th {\n",
       "        text-align: right;\n",
       "    }\n",
       "</style>\n",
       "<table border=\"1\" class=\"dataframe\">\n",
       "  <thead>\n",
       "    <tr style=\"text-align: right;\">\n",
       "      <th></th>\n",
       "      <th>emp_no</th>\n",
       "      <th>birth_date</th>\n",
       "      <th>first_name</th>\n",
       "      <th>last_name</th>\n",
       "      <th>gender</th>\n",
       "      <th>hire_date</th>\n",
       "      <th>salary</th>\n",
       "      <th>from_date</th>\n",
       "      <th>to_date</th>\n",
       "    </tr>\n",
       "  </thead>\n",
       "  <tbody>\n",
       "    <tr>\n",
       "      <th>0</th>\n",
       "      <td>10001</td>\n",
       "      <td>1953-09-02</td>\n",
       "      <td>Georgi</td>\n",
       "      <td>Facello</td>\n",
       "      <td>M</td>\n",
       "      <td>1986-06-26</td>\n",
       "      <td>60117</td>\n",
       "      <td>1986-06-26</td>\n",
       "      <td>1987-06-26</td>\n",
       "    </tr>\n",
       "    <tr>\n",
       "      <th>1</th>\n",
       "      <td>10001</td>\n",
       "      <td>1953-09-02</td>\n",
       "      <td>Georgi</td>\n",
       "      <td>Facello</td>\n",
       "      <td>M</td>\n",
       "      <td>1986-06-26</td>\n",
       "      <td>62102</td>\n",
       "      <td>1987-06-26</td>\n",
       "      <td>1988-06-25</td>\n",
       "    </tr>\n",
       "    <tr>\n",
       "      <th>2</th>\n",
       "      <td>10001</td>\n",
       "      <td>1953-09-02</td>\n",
       "      <td>Georgi</td>\n",
       "      <td>Facello</td>\n",
       "      <td>M</td>\n",
       "      <td>1986-06-26</td>\n",
       "      <td>66074</td>\n",
       "      <td>1988-06-25</td>\n",
       "      <td>1989-06-25</td>\n",
       "    </tr>\n",
       "    <tr>\n",
       "      <th>3</th>\n",
       "      <td>10001</td>\n",
       "      <td>1953-09-02</td>\n",
       "      <td>Georgi</td>\n",
       "      <td>Facello</td>\n",
       "      <td>M</td>\n",
       "      <td>1986-06-26</td>\n",
       "      <td>66596</td>\n",
       "      <td>1989-06-25</td>\n",
       "      <td>1990-06-25</td>\n",
       "    </tr>\n",
       "    <tr>\n",
       "      <th>4</th>\n",
       "      <td>10001</td>\n",
       "      <td>1953-09-02</td>\n",
       "      <td>Georgi</td>\n",
       "      <td>Facello</td>\n",
       "      <td>M</td>\n",
       "      <td>1986-06-26</td>\n",
       "      <td>66961</td>\n",
       "      <td>1990-06-25</td>\n",
       "      <td>1991-06-25</td>\n",
       "    </tr>\n",
       "  </tbody>\n",
       "</table>\n",
       "</div>"
      ],
      "text/plain": [
       "   emp_no  birth_date first_name last_name gender   hire_date  salary  \\\n",
       "0   10001  1953-09-02     Georgi   Facello      M  1986-06-26   60117   \n",
       "1   10001  1953-09-02     Georgi   Facello      M  1986-06-26   62102   \n",
       "2   10001  1953-09-02     Georgi   Facello      M  1986-06-26   66074   \n",
       "3   10001  1953-09-02     Georgi   Facello      M  1986-06-26   66596   \n",
       "4   10001  1953-09-02     Georgi   Facello      M  1986-06-26   66961   \n",
       "\n",
       "    from_date     to_date  \n",
       "0  1986-06-26  1987-06-26  \n",
       "1  1987-06-26  1988-06-25  \n",
       "2  1988-06-25  1989-06-25  \n",
       "3  1989-06-25  1990-06-25  \n",
       "4  1990-06-25  1991-06-25  "
      ]
     },
     "execution_count": 17,
     "metadata": {},
     "output_type": "execute_result"
    }
   ],
   "source": [
    "employees = pd.read_csv('employees.csv', index_col=0)\n",
    "employees.head()"
   ]
  },
  {
   "cell_type": "code",
   "execution_count": 19,
   "id": "13678748",
   "metadata": {},
   "outputs": [
    {
     "data": {
      "text/plain": [
       "emp_no         int64\n",
       "birth_date    object\n",
       "first_name    object\n",
       "last_name     object\n",
       "gender        object\n",
       "hire_date     object\n",
       "salary         int64\n",
       "from_date     object\n",
       "to_date       object\n",
       "dtype: object"
      ]
     },
     "execution_count": 19,
     "metadata": {},
     "output_type": "execute_result"
    }
   ],
   "source": [
    "employees.dtypes"
   ]
  },
  {
   "cell_type": "code",
   "execution_count": 27,
   "id": "c4ff9386",
   "metadata": {},
   "outputs": [],
   "source": [
    "mean_salary = round(employees.salary.mean(),2)\n",
    "\n",
    "std_salary = round(employees.salary.std(), 2)"
   ]
  },
  {
   "cell_type": "code",
   "execution_count": 28,
   "id": "cc38eb50",
   "metadata": {},
   "outputs": [
    {
     "data": {
      "text/plain": [
       "(63810.74, 16904.83)"
      ]
     },
     "execution_count": 28,
     "metadata": {},
     "output_type": "execute_result"
    }
   ],
   "source": [
    "mean_salary, std_salary"
   ]
  },
  {
   "cell_type": "code",
   "execution_count": 29,
   "id": "022497df",
   "metadata": {},
   "outputs": [
    {
     "data": {
      "text/plain": [
       "<scipy.stats._distn_infrastructure.rv_continuous_frozen at 0x2df118c50>"
      ]
     },
     "execution_count": 29,
     "metadata": {},
     "output_type": "execute_result"
    }
   ],
   "source": [
    "emp = stats.norm(mean_salary, std_salary)\n",
    "emp"
   ]
  },
  {
   "cell_type": "code",
   "execution_count": 30,
   "id": "230ecab3",
   "metadata": {},
   "outputs": [
    {
     "data": {
      "text/plain": [
       "0.4108250526452645"
      ]
     },
     "execution_count": 30,
     "metadata": {},
     "output_type": "execute_result"
    }
   ],
   "source": [
    "# What percent of employees earn less than 60,000?\n",
    "\n",
    "emp.cdf(60000)"
   ]
  },
  {
   "cell_type": "code",
   "execution_count": 42,
   "id": "4e60ed8b",
   "metadata": {},
   "outputs": [
    {
     "data": {
      "text/plain": [
       "1.8449910469374728"
      ]
     },
     "execution_count": 42,
     "metadata": {},
     "output_type": "execute_result"
    }
   ],
   "source": [
    "\n",
    "\n",
    "# Calculate the z-score for the target salary\n",
    "z_score = (95000 - 63810.74) / 16904.83\n",
    "z_score\n",
    "\n"
   ]
  },
  {
   "cell_type": "code",
   "execution_count": 38,
   "id": "addbcb08",
   "metadata": {},
   "outputs": [
    {
     "data": {
      "text/plain": [
       "0.032519420500358276"
      ]
     },
     "execution_count": 38,
     "metadata": {},
     "output_type": "execute_result"
    }
   ],
   "source": [
    "# What percent of employees earn more than 95,000?\n",
    "\n",
    "\n",
    "1 - emp.cdf(95000)\n",
    "\n",
    "#Alt method: emp.sf(95000)"
   ]
  },
  {
   "cell_type": "code",
   "execution_count": null,
   "id": "7f4b5bb5",
   "metadata": {},
   "outputs": [],
   "source": []
  },
  {
   "cell_type": "code",
   "execution_count": 51,
   "id": "fb114ae1",
   "metadata": {},
   "outputs": [
    {
     "name": "stdout",
     "output_type": "stream",
     "text": [
      "[0.302843]\n"
     ]
    }
   ],
   "source": [
    "#What percent of employees earn between 65,000 and 80,000?\n",
    "\n",
    "print(np.diff(emp.cdf([65000, 80000])))"
   ]
  },
  {
   "cell_type": "code",
   "execution_count": 56,
   "id": "0090a3c0",
   "metadata": {},
   "outputs": [
    {
     "data": {
      "text/plain": [
       "numpy.ndarray"
      ]
     },
     "execution_count": 56,
     "metadata": {},
     "output_type": "execute_result"
    }
   ],
   "source": [
    "a = np.diff(emp.cdf([65000, 80000]))\n",
    "a = a.astype(float)\n",
    "type(a)"
   ]
  },
  {
   "cell_type": "code",
   "execution_count": null,
   "id": "f6a91b6c",
   "metadata": {},
   "outputs": [],
   "source": []
  },
  {
   "cell_type": "code",
   "execution_count": null,
   "id": "141dd182",
   "metadata": {},
   "outputs": [],
   "source": []
  },
  {
   "cell_type": "code",
   "execution_count": 44,
   "id": "23a8b154",
   "metadata": {},
   "outputs": [
    {
     "data": {
      "text/plain": [
       "91616.71093849807"
      ]
     },
     "execution_count": 44,
     "metadata": {},
     "output_type": "execute_result"
    }
   ],
   "source": [
    "#What do the top 5% of employees make?\n",
    "\n",
    "emp.isf(0.05)"
   ]
  },
  {
   "cell_type": "code",
   "execution_count": null,
   "id": "ae7bded2",
   "metadata": {},
   "outputs": [],
   "source": []
  },
  {
   "cell_type": "code",
   "execution_count": null,
   "id": "8ce44785",
   "metadata": {},
   "outputs": [],
   "source": []
  },
  {
   "cell_type": "code",
   "execution_count": null,
   "id": "7a439ff4",
   "metadata": {},
   "outputs": [],
   "source": []
  },
  {
   "cell_type": "code",
   "execution_count": null,
   "id": "141a695f",
   "metadata": {},
   "outputs": [],
   "source": []
  },
  {
   "cell_type": "code",
   "execution_count": null,
   "id": "834fd776",
   "metadata": {},
   "outputs": [],
   "source": []
  },
  {
   "cell_type": "code",
   "execution_count": null,
   "id": "b1309948",
   "metadata": {},
   "outputs": [],
   "source": []
  },
  {
   "cell_type": "code",
   "execution_count": null,
   "id": "37b98f10",
   "metadata": {},
   "outputs": [],
   "source": []
  },
  {
   "cell_type": "code",
   "execution_count": null,
   "id": "84de12da",
   "metadata": {},
   "outputs": [],
   "source": []
  },
  {
   "cell_type": "code",
   "execution_count": null,
   "id": "2432990a",
   "metadata": {},
   "outputs": [],
   "source": []
  },
  {
   "cell_type": "code",
   "execution_count": null,
   "id": "8297ad4d",
   "metadata": {},
   "outputs": [],
   "source": []
  },
  {
   "cell_type": "code",
   "execution_count": null,
   "id": "87bad701",
   "metadata": {},
   "outputs": [],
   "source": []
  },
  {
   "cell_type": "code",
   "execution_count": null,
   "id": "bf769d0e",
   "metadata": {},
   "outputs": [],
   "source": []
  },
  {
   "cell_type": "code",
   "execution_count": null,
   "id": "d38d01cf",
   "metadata": {},
   "outputs": [],
   "source": []
  },
  {
   "cell_type": "code",
   "execution_count": null,
   "id": "1a5f7a92",
   "metadata": {},
   "outputs": [],
   "source": []
  },
  {
   "cell_type": "code",
   "execution_count": null,
   "id": "b5e29d93",
   "metadata": {},
   "outputs": [],
   "source": []
  },
  {
   "cell_type": "code",
   "execution_count": null,
   "id": "85e19715",
   "metadata": {},
   "outputs": [],
   "source": []
  },
  {
   "cell_type": "code",
   "execution_count": null,
   "id": "879592d2",
   "metadata": {},
   "outputs": [],
   "source": []
  },
  {
   "cell_type": "code",
   "execution_count": null,
   "id": "580af213",
   "metadata": {},
   "outputs": [],
   "source": []
  },
  {
   "cell_type": "code",
   "execution_count": null,
   "id": "9fbb7c98",
   "metadata": {},
   "outputs": [],
   "source": []
  },
  {
   "cell_type": "code",
   "execution_count": null,
   "id": "51e37c6c",
   "metadata": {},
   "outputs": [],
   "source": []
  }
 ],
 "metadata": {
  "kernelspec": {
   "display_name": "Python 3 (ipykernel)",
   "language": "python",
   "name": "python3"
  },
  "language_info": {
   "codemirror_mode": {
    "name": "ipython",
    "version": 3
   },
   "file_extension": ".py",
   "mimetype": "text/x-python",
   "name": "python",
   "nbconvert_exporter": "python",
   "pygments_lexer": "ipython3",
   "version": "3.11.5"
  }
 },
 "nbformat": 4,
 "nbformat_minor": 5
}
